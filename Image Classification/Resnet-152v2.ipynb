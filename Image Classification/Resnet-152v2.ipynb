{
 "cells": [
  {
   "cell_type": "markdown",
   "id": "caf0e749-4f94-41d0-a28d-2e9b2565a53a",
   "metadata": {},
   "source": [
    "# Resnet 152 v2 Keras 예제"
   ]
  },
  {
   "cell_type": "code",
   "execution_count": 1,
   "id": "d83f3960-d31d-4bc0-81e1-bb392d6b5282",
   "metadata": {},
   "outputs": [
    {
     "ename": "AttributeError",
     "evalue": "module 'tensorflow.keras.applications' has no attribute 'resnet152'",
     "output_type": "error",
     "traceback": [
      "\u001b[0;31m---------------------------------------------------------------------------\u001b[0m",
      "\u001b[0;31mAttributeError\u001b[0m                            Traceback (most recent call last)",
      "Cell \u001b[0;32mIn [1], line 3\u001b[0m\n\u001b[1;32m      1\u001b[0m \u001b[38;5;28;01mfrom\u001b[39;00m \u001b[38;5;21;01mtensorflow\u001b[39;00m\u001b[38;5;21;01m.\u001b[39;00m\u001b[38;5;21;01mkeras\u001b[39;00m \u001b[38;5;28;01mimport\u001b[39;00m applications\n\u001b[0;32m----> 3\u001b[0m base_model \u001b[38;5;241m=\u001b[39m \u001b[43mapplications\u001b[49m\u001b[38;5;241;43m.\u001b[39;49m\u001b[43mresnet152\u001b[49m\u001b[38;5;241m.\u001b[39mResNet152(weight \u001b[38;5;241m=\u001b[39m \u001b[38;5;28;01mNone\u001b[39;00m, include_top \u001b[38;5;241m=\u001b[39m \u001b[38;5;28;01mFalse\u001b[39;00m, input_shape \u001b[38;5;241m=\u001b[39m (\u001b[38;5;241m90\u001b[39m,\u001b[38;5;241m90\u001b[39m,\u001b[38;5;241m3\u001b[39m))\n",
      "\u001b[0;31mAttributeError\u001b[0m: module 'tensorflow.keras.applications' has no attribute 'resnet152'"
     ]
    }
   ],
   "source": [
    "from tensorflow.keras import applications\n",
    "\n",
    "base_model = applications.resnet152.ResNet152(weight = None, include_top = False, input_shape = (90,90,3))"
   ]
  },
  {
   "cell_type": "code",
   "execution_count": null,
   "id": "e84c1f0e-a7f3-4a17-949d-2903816e09e9",
   "metadata": {},
   "outputs": [],
   "source": []
  }
 ],
 "metadata": {
  "kernelspec": {
   "display_name": "Python 3 (ipykernel)",
   "language": "python",
   "name": "python3"
  },
  "language_info": {
   "codemirror_mode": {
    "name": "ipython",
    "version": 3
   },
   "file_extension": ".py",
   "mimetype": "text/x-python",
   "name": "python",
   "nbconvert_exporter": "python",
   "pygments_lexer": "ipython3",
   "version": "3.8.13"
  }
 },
 "nbformat": 4,
 "nbformat_minor": 5
}
