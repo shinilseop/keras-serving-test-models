{
 "cells": [
  {
   "cell_type": "code",
   "execution_count": 10,
   "id": "0ba8a4f1",
   "metadata": {},
   "outputs": [],
   "source": [
    "import os\n",
    "import pandas as pd\n",
    "\n",
    "DATA_DIR = \"../data/dog-breed-identification\"\n",
    "file_list = os.listdir(DATA_DIR+\"/test\")\n",
    "datas = []\n",
    "for data in file_list:\n",
    "    data = data.split('.')[0]\n",
    "    datas.append({\"id\":data})\n",
    "df = pd.DataFrame(datas)"
   ]
  },
  {
   "cell_type": "code",
   "execution_count": 11,
   "id": "c809f8c7",
   "metadata": {},
   "outputs": [
    {
     "data": {
      "text/html": [
       "<div>\n",
       "<style scoped>\n",
       "    .dataframe tbody tr th:only-of-type {\n",
       "        vertical-align: middle;\n",
       "    }\n",
       "\n",
       "    .dataframe tbody tr th {\n",
       "        vertical-align: top;\n",
       "    }\n",
       "\n",
       "    .dataframe thead th {\n",
       "        text-align: right;\n",
       "    }\n",
       "</style>\n",
       "<table border=\"1\" class=\"dataframe\">\n",
       "  <thead>\n",
       "    <tr style=\"text-align: right;\">\n",
       "      <th></th>\n",
       "      <th>id</th>\n",
       "    </tr>\n",
       "  </thead>\n",
       "  <tbody>\n",
       "    <tr>\n",
       "      <th>0</th>\n",
       "      <td>266490a2b053a4a3bf68e779f28fb5a9</td>\n",
       "    </tr>\n",
       "    <tr>\n",
       "      <th>1</th>\n",
       "      <td>dae9fd18836d8df20989ef0101771d4b</td>\n",
       "    </tr>\n",
       "    <tr>\n",
       "      <th>2</th>\n",
       "      <td>079a40f22b0fad9a66f76797b62bb930</td>\n",
       "    </tr>\n",
       "    <tr>\n",
       "      <th>3</th>\n",
       "      <td>ab8462f9a501d362041d47582fddc9ad</td>\n",
       "    </tr>\n",
       "    <tr>\n",
       "      <th>4</th>\n",
       "      <td>8895089b432e020cc42e6262b5a1c2dd</td>\n",
       "    </tr>\n",
       "    <tr>\n",
       "      <th>...</th>\n",
       "      <td>...</td>\n",
       "    </tr>\n",
       "    <tr>\n",
       "      <th>10352</th>\n",
       "      <td>e6d6ff5b33e6174158d5ab05a7eda95c</td>\n",
       "    </tr>\n",
       "    <tr>\n",
       "      <th>10353</th>\n",
       "      <td>474a1be9d5932a9e75b28384961ad17f</td>\n",
       "    </tr>\n",
       "    <tr>\n",
       "      <th>10354</th>\n",
       "      <td>1b7421b4d34056c04a9b2d109e503fe4</td>\n",
       "    </tr>\n",
       "    <tr>\n",
       "      <th>10355</th>\n",
       "      <td>51a79ea47f89ff2ebaa879d5ccf132f0</td>\n",
       "    </tr>\n",
       "    <tr>\n",
       "      <th>10356</th>\n",
       "      <td>8f4210be609c47ccd3c611a106e6c095</td>\n",
       "    </tr>\n",
       "  </tbody>\n",
       "</table>\n",
       "<p>10357 rows × 1 columns</p>\n",
       "</div>"
      ],
      "text/plain": [
       "                                     id\n",
       "0      266490a2b053a4a3bf68e779f28fb5a9\n",
       "1      dae9fd18836d8df20989ef0101771d4b\n",
       "2      079a40f22b0fad9a66f76797b62bb930\n",
       "3      ab8462f9a501d362041d47582fddc9ad\n",
       "4      8895089b432e020cc42e6262b5a1c2dd\n",
       "...                                 ...\n",
       "10352  e6d6ff5b33e6174158d5ab05a7eda95c\n",
       "10353  474a1be9d5932a9e75b28384961ad17f\n",
       "10354  1b7421b4d34056c04a9b2d109e503fe4\n",
       "10355  51a79ea47f89ff2ebaa879d5ccf132f0\n",
       "10356  8f4210be609c47ccd3c611a106e6c095\n",
       "\n",
       "[10357 rows x 1 columns]"
      ]
     },
     "execution_count": 11,
     "metadata": {},
     "output_type": "execute_result"
    }
   ],
   "source": [
    "df"
   ]
  },
  {
   "cell_type": "code",
   "execution_count": 12,
   "id": "17791afe",
   "metadata": {},
   "outputs": [],
   "source": [
    "df.to_csv(DATA_DIR+\"/predict.csv\", index=False)"
   ]
  },
  {
   "cell_type": "code",
   "execution_count": null,
   "id": "be22dc41",
   "metadata": {},
   "outputs": [],
   "source": []
  }
 ],
 "metadata": {
  "kernelspec": {
   "display_name": "Python 3 (ipykernel)",
   "language": "python",
   "name": "python3"
  },
  "language_info": {
   "codemirror_mode": {
    "name": "ipython",
    "version": 3
   },
   "file_extension": ".py",
   "mimetype": "text/x-python",
   "name": "python",
   "nbconvert_exporter": "python",
   "pygments_lexer": "ipython3",
   "version": "3.8.13"
  }
 },
 "nbformat": 4,
 "nbformat_minor": 5
}
