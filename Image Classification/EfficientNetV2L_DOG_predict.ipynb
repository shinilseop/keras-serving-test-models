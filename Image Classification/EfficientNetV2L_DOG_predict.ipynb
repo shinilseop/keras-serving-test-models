{
 "cells": [
  {
   "cell_type": "code",
   "execution_count": 1,
   "id": "2aca7a96-8139-492b-9f9f-8c0c90fb8b59",
   "metadata": {},
   "outputs": [],
   "source": [
    "import numpy as np\n",
    "import pandas as pd\n",
    "import cv2\n",
    "from keras.applications.efficientnet_v2 import EfficientNetV2L\n",
    "from keras.models import Model\n",
    "from keras.layers import Dense, Dropout, Flatten\n",
    "from tqdm import tqdm"
   ]
  },
  {
   "cell_type": "code",
   "execution_count": 2,
   "id": "7f7f3815-537c-45ca-ad77-f80d29907663",
   "metadata": {},
   "outputs": [
    {
     "name": "stderr",
     "output_type": "stream",
     "text": [
      "100%|███████████████████████████████████████████████████████████████████████| 10222/10222 [00:00<00:00, 1317219.44it/s]\n",
      "  0%|                                                                                        | 0/10357 [00:00<?, ?it/s]"
     ]
    },
    {
     "name": "stdout",
     "output_type": "stream",
     "text": [
      "(10222, 120)\n",
      "(1, 90, 90, 3)\n"
     ]
    },
    {
     "name": "stderr",
     "output_type": "stream",
     "text": [
      "\n"
     ]
    }
   ],
   "source": [
    "DATA_DIR = \"../data/dog-breed-identification\"\n",
    "\n",
    "# csv 데이터 셋팅\n",
    "df_train = pd.read_csv(DATA_DIR+\"/labels.csv\")\n",
    "df_test = pd.read_csv(DATA_DIR+\"/predict.csv\")\n",
    "\n",
    "# breed 파싱(중첩제거?)\n",
    "targets_series = pd.Series(df_train['breed'])\n",
    "# one_hot 변환(0 0 1 0)\n",
    "one_hot = pd.get_dummies(targets_series, sparse = True)\n",
    "\n",
    "# 배열로 변환\n",
    "one_hot_labels = np.asarray(one_hot)\n",
    "\n",
    "# 이미지 사이즈 정의\n",
    "im_size = 90\n",
    "\n",
    "y_train = []\n",
    "x_test = []\n",
    "\n",
    "# 예측할 분류 셋팅\n",
    "i = 0\n",
    "for f, breed in tqdm(df_train.values):\n",
    "    label = one_hot_labels[i]\n",
    "    y_train.append(label)\n",
    "    i += 1\n",
    "\n",
    "# 예측할 데이터 셋팅\n",
    "cnt = 0\n",
    "for f in tqdm(df_test['id'].values):\n",
    "    img = cv2.imread(DATA_DIR+\"/test/{}.jpg\".format(f))\n",
    "    x_test.append(cv2.resize(img, (im_size, im_size)))\n",
    "    cnt+=1\n",
    "    if(cnt == 1):\n",
    "        break\n",
    "\n",
    "y_train_raw = np.array(y_train, np.uint8)\n",
    "x_test = np.array(x_test, np.float32) / 255.\n",
    "\n",
    "\n",
    "# shape 확인\n",
    "print(y_train_raw.shape)\n",
    "print(x_test.shape)\n",
    "\n",
    "# 분류\n",
    "num_class = y_train_raw.shape[1]"
   ]
  },
  {
   "cell_type": "code",
   "execution_count": 4,
   "id": "d110f262-5fd8-4fc8-9b63-dfd5eb53a113",
   "metadata": {},
   "outputs": [
    {
     "name": "stdout",
     "output_type": "stream",
     "text": [
      "Metal device set to: Apple M1 Pro\n"
     ]
    },
    {
     "name": "stderr",
     "output_type": "stream",
     "text": [
      "2022-09-19 03:48:34.654068: I tensorflow/core/common_runtime/pluggable_device/pluggable_device_factory.cc:306] Could not identify NUMA node of platform GPU ID 0, defaulting to 0. Your kernel may not have been built with NUMA support.\n",
      "2022-09-19 03:48:34.654185: I tensorflow/core/common_runtime/pluggable_device/pluggable_device_factory.cc:272] Created TensorFlow device (/job:localhost/replica:0/task:0/device:GPU:0 with 0 MB memory) -> physical PluggableDevice (device: 0, name: METAL, pci bus id: <undefined>)\n"
     ]
    }
   ],
   "source": [
    "# 사전 교육된 기본 모델 생성\n",
    "base_model = EfficientNetV2L(\n",
    "    # weights = 'imagenet',\n",
    "    weights = None,\n",
    "    include_top=False, input_shape=(im_size, im_size, 3))\n",
    "\n",
    "# model out 정의\n",
    "x = base_model.output\n",
    "x = Flatten()(x)\n",
    "predictions = Dense(num_class, activation='softmax')(x)\n",
    "\n",
    "# 모델 정의\n",
    "model = Model(inputs=base_model.input, outputs=predictions)\n",
    "\n",
    "# 저장된 weights 로드\n",
    "model.load_weights('EfficientNetV2L_DOG_weights.h5')\n",
    "# model.summary()"
   ]
  },
  {
   "cell_type": "code",
   "execution_count": 19,
   "id": "860dcf19-1f92-4edc-a8b3-80565a94f593",
   "metadata": {},
   "outputs": [
    {
     "name": "stdout",
     "output_type": "stream",
     "text": [
      "cpu predict start  : 2022-09-19 03:49:06.677321\n",
      "1/1 [==============================] - 0s 213ms/step\n",
      "cpu predict finish : 2022-09-19 03:49:06.920687\n"
     ]
    },
    {
     "data": {
      "text/html": [
       "<div>\n",
       "<style scoped>\n",
       "    .dataframe tbody tr th:only-of-type {\n",
       "        vertical-align: middle;\n",
       "    }\n",
       "\n",
       "    .dataframe tbody tr th {\n",
       "        vertical-align: top;\n",
       "    }\n",
       "\n",
       "    .dataframe thead th {\n",
       "        text-align: right;\n",
       "    }\n",
       "</style>\n",
       "<table border=\"1\" class=\"dataframe\">\n",
       "  <thead>\n",
       "    <tr style=\"text-align: right;\">\n",
       "      <th></th>\n",
       "      <th>affenpinscher</th>\n",
       "      <th>afghan_hound</th>\n",
       "      <th>african_hunting_dog</th>\n",
       "      <th>airedale</th>\n",
       "      <th>american_staffordshire_terrier</th>\n",
       "      <th>appenzeller</th>\n",
       "      <th>australian_terrier</th>\n",
       "      <th>basenji</th>\n",
       "      <th>basset</th>\n",
       "      <th>beagle</th>\n",
       "      <th>...</th>\n",
       "      <th>toy_poodle</th>\n",
       "      <th>toy_terrier</th>\n",
       "      <th>vizsla</th>\n",
       "      <th>walker_hound</th>\n",
       "      <th>weimaraner</th>\n",
       "      <th>welsh_springer_spaniel</th>\n",
       "      <th>west_highland_white_terrier</th>\n",
       "      <th>whippet</th>\n",
       "      <th>wire-haired_fox_terrier</th>\n",
       "      <th>yorkshire_terrier</th>\n",
       "    </tr>\n",
       "  </thead>\n",
       "  <tbody>\n",
       "    <tr>\n",
       "      <th>0</th>\n",
       "      <td>0.015936</td>\n",
       "      <td>0.000044</td>\n",
       "      <td>0.00007</td>\n",
       "      <td>0.008345</td>\n",
       "      <td>0.003395</td>\n",
       "      <td>0.00008</td>\n",
       "      <td>0.023703</td>\n",
       "      <td>0.012459</td>\n",
       "      <td>0.000115</td>\n",
       "      <td>0.001113</td>\n",
       "      <td>...</td>\n",
       "      <td>0.000083</td>\n",
       "      <td>0.000129</td>\n",
       "      <td>0.000006</td>\n",
       "      <td>0.016458</td>\n",
       "      <td>0.000091</td>\n",
       "      <td>0.000016</td>\n",
       "      <td>0.000409</td>\n",
       "      <td>0.000161</td>\n",
       "      <td>0.00002</td>\n",
       "      <td>0.004808</td>\n",
       "    </tr>\n",
       "  </tbody>\n",
       "</table>\n",
       "<p>1 rows × 120 columns</p>\n",
       "</div>"
      ],
      "text/plain": [
       "   affenpinscher  afghan_hound  african_hunting_dog  airedale  \\\n",
       "0       0.015936      0.000044              0.00007  0.008345   \n",
       "\n",
       "   american_staffordshire_terrier  appenzeller  australian_terrier   basenji  \\\n",
       "0                        0.003395      0.00008            0.023703  0.012459   \n",
       "\n",
       "     basset    beagle  ...  toy_poodle  toy_terrier    vizsla  walker_hound  \\\n",
       "0  0.000115  0.001113  ...    0.000083     0.000129  0.000006      0.016458   \n",
       "\n",
       "   weimaraner  welsh_springer_spaniel  west_highland_white_terrier   whippet  \\\n",
       "0    0.000091                0.000016                     0.000409  0.000161   \n",
       "\n",
       "   wire-haired_fox_terrier  yorkshire_terrier  \n",
       "0                  0.00002           0.004808  \n",
       "\n",
       "[1 rows x 120 columns]"
      ]
     },
     "execution_count": 19,
     "metadata": {},
     "output_type": "execute_result"
    }
   ],
   "source": [
    "import datetime\n",
    "import tensorflow as tf\n",
    "\n",
    "with tf.device('/CPU:0'):\n",
    "    print(\"cpu predict start  :\", datetime.datetime.now())\n",
    "    # 예측할 데이터 결과\n",
    "    preds = model.predict(x_test, verbose=1)\n",
    "    print(\"cpu predict finish :\", datetime.datetime.now())\n",
    "\n",
    "sub = pd.DataFrame(preds)\n",
    "# 열 이름을 앞서 한번의 키 인코딩으로 생성된 열 이름으로 설정\n",
    "col_names = one_hot.columns.values\n",
    "sub.columns = col_names\n",
    "\n",
    "sub.head(5)"
   ]
  },
  {
   "cell_type": "code",
   "execution_count": 20,
   "id": "b76b0ccf-cde1-429a-bfd6-4e75cc30dc1d",
   "metadata": {},
   "outputs": [
    {
     "name": "stdout",
     "output_type": "stream",
     "text": [
      "gpu predict start  : 2022-09-19 03:49:07.017077\n",
      "1/1 [==============================] - 0s 76ms/step\n",
      "gpu predict finish : 2022-09-19 03:49:07.117237\n"
     ]
    },
    {
     "data": {
      "text/html": [
       "<div>\n",
       "<style scoped>\n",
       "    .dataframe tbody tr th:only-of-type {\n",
       "        vertical-align: middle;\n",
       "    }\n",
       "\n",
       "    .dataframe tbody tr th {\n",
       "        vertical-align: top;\n",
       "    }\n",
       "\n",
       "    .dataframe thead th {\n",
       "        text-align: right;\n",
       "    }\n",
       "</style>\n",
       "<table border=\"1\" class=\"dataframe\">\n",
       "  <thead>\n",
       "    <tr style=\"text-align: right;\">\n",
       "      <th></th>\n",
       "      <th>affenpinscher</th>\n",
       "      <th>afghan_hound</th>\n",
       "      <th>african_hunting_dog</th>\n",
       "      <th>airedale</th>\n",
       "      <th>american_staffordshire_terrier</th>\n",
       "      <th>appenzeller</th>\n",
       "      <th>australian_terrier</th>\n",
       "      <th>basenji</th>\n",
       "      <th>basset</th>\n",
       "      <th>beagle</th>\n",
       "      <th>...</th>\n",
       "      <th>toy_poodle</th>\n",
       "      <th>toy_terrier</th>\n",
       "      <th>vizsla</th>\n",
       "      <th>walker_hound</th>\n",
       "      <th>weimaraner</th>\n",
       "      <th>welsh_springer_spaniel</th>\n",
       "      <th>west_highland_white_terrier</th>\n",
       "      <th>whippet</th>\n",
       "      <th>wire-haired_fox_terrier</th>\n",
       "      <th>yorkshire_terrier</th>\n",
       "    </tr>\n",
       "  </thead>\n",
       "  <tbody>\n",
       "    <tr>\n",
       "      <th>0</th>\n",
       "      <td>0.015936</td>\n",
       "      <td>0.000044</td>\n",
       "      <td>0.00007</td>\n",
       "      <td>0.008345</td>\n",
       "      <td>0.003395</td>\n",
       "      <td>0.00008</td>\n",
       "      <td>0.023704</td>\n",
       "      <td>0.012459</td>\n",
       "      <td>0.000115</td>\n",
       "      <td>0.001113</td>\n",
       "      <td>...</td>\n",
       "      <td>0.000083</td>\n",
       "      <td>0.000129</td>\n",
       "      <td>0.000006</td>\n",
       "      <td>0.016458</td>\n",
       "      <td>0.000091</td>\n",
       "      <td>0.000016</td>\n",
       "      <td>0.000409</td>\n",
       "      <td>0.000161</td>\n",
       "      <td>0.00002</td>\n",
       "      <td>0.004808</td>\n",
       "    </tr>\n",
       "  </tbody>\n",
       "</table>\n",
       "<p>1 rows × 120 columns</p>\n",
       "</div>"
      ],
      "text/plain": [
       "   affenpinscher  afghan_hound  african_hunting_dog  airedale  \\\n",
       "0       0.015936      0.000044              0.00007  0.008345   \n",
       "\n",
       "   american_staffordshire_terrier  appenzeller  australian_terrier   basenji  \\\n",
       "0                        0.003395      0.00008            0.023704  0.012459   \n",
       "\n",
       "     basset    beagle  ...  toy_poodle  toy_terrier    vizsla  walker_hound  \\\n",
       "0  0.000115  0.001113  ...    0.000083     0.000129  0.000006      0.016458   \n",
       "\n",
       "   weimaraner  welsh_springer_spaniel  west_highland_white_terrier   whippet  \\\n",
       "0    0.000091                0.000016                     0.000409  0.000161   \n",
       "\n",
       "   wire-haired_fox_terrier  yorkshire_terrier  \n",
       "0                  0.00002           0.004808  \n",
       "\n",
       "[1 rows x 120 columns]"
      ]
     },
     "execution_count": 20,
     "metadata": {},
     "output_type": "execute_result"
    }
   ],
   "source": [
    "import datetime\n",
    "\n",
    "print(\"gpu predict start  :\", datetime.datetime.now())\n",
    "# 예측할 데이터 결과\n",
    "preds = model.predict(x_test, verbose=1)\n",
    "print(\"gpu predict finish :\", datetime.datetime.now())\n",
    "\n",
    "sub = pd.DataFrame(preds)\n",
    "# 열 이름을 앞서 한번의 키 인코딩으로 생성된 열 이름으로 설정\n",
    "col_names = one_hot.columns.values\n",
    "sub.columns = col_names\n",
    "\n",
    "sub.head(5)"
   ]
  },
  {
   "cell_type": "code",
   "execution_count": null,
   "id": "0f168e84-9645-43c7-b558-3c1c9493ae50",
   "metadata": {},
   "outputs": [],
   "source": []
  }
 ],
 "metadata": {
  "kernelspec": {
   "display_name": "Python 3 (ipykernel)",
   "language": "python",
   "name": "python3"
  },
  "language_info": {
   "codemirror_mode": {
    "name": "ipython",
    "version": 3
   },
   "file_extension": ".py",
   "mimetype": "text/x-python",
   "name": "python",
   "nbconvert_exporter": "python",
   "pygments_lexer": "ipython3",
   "version": "3.8.13"
  }
 },
 "nbformat": 4,
 "nbformat_minor": 5
}
