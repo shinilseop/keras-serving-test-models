{
 "cells": [
  {
   "cell_type": "markdown",
   "id": "e68f3d4d",
   "metadata": {},
   "source": [
    "## Train"
   ]
  },
  {
   "cell_type": "code",
   "execution_count": 1,
   "id": "6db1ffa5",
   "metadata": {},
   "outputs": [],
   "source": [
    "import numpy as np\n",
    "import pandas as pd\n",
    "import keras\n",
    "import cv2\n",
    "from keras.applications.vgg19 import VGG19\n",
    "from keras.models import Model\n",
    "from keras.layers import Dense, Dropout, Flatten\n",
    "from tqdm import tqdm\n",
    "from sklearn.model_selection import train_test_split"
   ]
  },
  {
   "cell_type": "code",
   "execution_count": 2,
   "id": "9a9ad66e",
   "metadata": {},
   "outputs": [],
   "source": [
    "DATA_DIR = \"../data/dog-breed-identification\"\n",
    "\n",
    "# 훈련할 csv 데이터 셋팅\n",
    "df_train = pd.read_csv(DATA_DIR+\"/labels.csv\")\n",
    "\n",
    "# breed 파싱(중첩제거?)\n",
    "targets_series = pd.Series(df_train['breed'])\n",
    "# one_hot 변환(0 0 1 0)\n",
    "one_hot = pd.get_dummies(targets_series, sparse = True)\n",
    "\n",
    "# 배열로 변환\n",
    "one_hot_labels = np.asarray(one_hot)\n",
    "\n",
    "# 이미지 사이즈 정의\n",
    "im_size = 90\n",
    "\n",
    "x_train = []\n",
    "y_train = []\n",
    "\n",
    "# 훈련할 데이터 셋팅\n",
    "i = 0\n",
    "for f, breed in tqdm(df_train.values):\n",
    "    img = cv2.imread(DATA_DIR+\"/train/{}.jpg\".format(f))\n",
    "    label = one_hot_labels[i]\n",
    "    x_train.append(cv2.resize(img, (im_size, im_size)))\n",
    "    y_train.append(label)\n",
    "    i += 1\n",
    "\n",
    "\n",
    "y_train_raw = np.array(y_train, np.uint8)\n",
    "x_train_raw = np.array(x_train, np.float32) / 255.\n",
    "\n",
    "# shape 확인\n",
    "print(x_train_raw.shape)\n",
    "print(y_train_raw.shape)\n",
    "\n",
    "# 분류\n",
    "num_class = y_train_raw.shape[1]\n",
    "\n",
    "# 교육할 데이터셋팅 및 성능테스트 데이터 교육데이터에서 30% 할당\n",
    "X_train, X_valid, Y_train, Y_valid = train_test_split(x_train_raw, y_train_raw, test_size=0.3, random_state=1)"
   ]
  },
  {
   "cell_type": "code",
   "execution_count": 5,
   "id": "4de6b8c4",
   "metadata": {
    "scrolled": true,
    "tags": []
   },
   "outputs": [
    {
     "name": "stdout",
     "output_type": "stream",
     "text": [
      "<keras.engine.input_layer.InputLayer object at 0x29d7f1b50> False\n",
      "<keras.layers.convolutional.conv2d.Conv2D object at 0x112a2ffa0> False\n",
      "<keras.layers.convolutional.conv2d.Conv2D object at 0x17a050e50> False\n",
      "<keras.layers.pooling.max_pooling2d.MaxPooling2D object at 0x17a0602b0> False\n",
      "<keras.layers.convolutional.conv2d.Conv2D object at 0x17a05e730> False\n",
      "<keras.layers.convolutional.conv2d.Conv2D object at 0x29d7ff5e0> False\n",
      "<keras.layers.pooling.max_pooling2d.MaxPooling2D object at 0x29d7f1eb0> False\n",
      "<keras.layers.convolutional.conv2d.Conv2D object at 0x291463b50> False\n",
      "<keras.layers.convolutional.conv2d.Conv2D object at 0x29d7ff1c0> False\n",
      "<keras.layers.convolutional.conv2d.Conv2D object at 0x291466a00> False\n",
      "<keras.layers.convolutional.conv2d.Conv2D object at 0x291468550> False\n",
      "<keras.layers.pooling.max_pooling2d.MaxPooling2D object at 0x291463220> False\n",
      "<keras.layers.convolutional.conv2d.Conv2D object at 0x291466790> False\n",
      "<keras.layers.convolutional.conv2d.Conv2D object at 0x29146e6a0> False\n",
      "<keras.layers.convolutional.conv2d.Conv2D object at 0x29146c9a0> False\n",
      "<keras.layers.convolutional.conv2d.Conv2D object at 0x29146cca0> False\n",
      "<keras.layers.pooling.max_pooling2d.MaxPooling2D object at 0x291467c10> False\n",
      "<keras.layers.convolutional.conv2d.Conv2D object at 0x2914743a0> False\n",
      "<keras.layers.convolutional.conv2d.Conv2D object at 0x291470c10> False\n",
      "<keras.layers.convolutional.conv2d.Conv2D object at 0x291470d30> False\n",
      "<keras.layers.convolutional.conv2d.Conv2D object at 0x291482d60> False\n",
      "<keras.layers.pooling.max_pooling2d.MaxPooling2D object at 0x29146c0d0> False\n",
      "Model: \"model_1\"\n",
      "_________________________________________________________________\n",
      " Layer (type)                Output Shape              Param #   \n",
      "=================================================================\n",
      " input_2 (InputLayer)        [(None, 90, 90, 3)]       0         \n",
      "                                                                 \n",
      " block1_conv1 (Conv2D)       (None, 90, 90, 64)        1792      \n",
      "                                                                 \n",
      " block1_conv2 (Conv2D)       (None, 90, 90, 64)        36928     \n",
      "                                                                 \n",
      " block1_pool (MaxPooling2D)  (None, 45, 45, 64)        0         \n",
      "                                                                 \n",
      " block2_conv1 (Conv2D)       (None, 45, 45, 128)       73856     \n",
      "                                                                 \n",
      " block2_conv2 (Conv2D)       (None, 45, 45, 128)       147584    \n",
      "                                                                 \n",
      " block2_pool (MaxPooling2D)  (None, 22, 22, 128)       0         \n",
      "                                                                 \n",
      " block3_conv1 (Conv2D)       (None, 22, 22, 256)       295168    \n",
      "                                                                 \n",
      " block3_conv2 (Conv2D)       (None, 22, 22, 256)       590080    \n",
      "                                                                 \n",
      " block3_conv3 (Conv2D)       (None, 22, 22, 256)       590080    \n",
      "                                                                 \n",
      " block3_conv4 (Conv2D)       (None, 22, 22, 256)       590080    \n",
      "                                                                 \n",
      " block3_pool (MaxPooling2D)  (None, 11, 11, 256)       0         \n",
      "                                                                 \n",
      " block4_conv1 (Conv2D)       (None, 11, 11, 512)       1180160   \n",
      "                                                                 \n",
      " block4_conv2 (Conv2D)       (None, 11, 11, 512)       2359808   \n",
      "                                                                 \n",
      " block4_conv3 (Conv2D)       (None, 11, 11, 512)       2359808   \n",
      "                                                                 \n",
      " block4_conv4 (Conv2D)       (None, 11, 11, 512)       2359808   \n",
      "                                                                 \n",
      " block4_pool (MaxPooling2D)  (None, 5, 5, 512)         0         \n",
      "                                                                 \n",
      " block5_conv1 (Conv2D)       (None, 5, 5, 512)         2359808   \n",
      "                                                                 \n",
      " block5_conv2 (Conv2D)       (None, 5, 5, 512)         2359808   \n",
      "                                                                 \n",
      " block5_conv3 (Conv2D)       (None, 5, 5, 512)         2359808   \n",
      "                                                                 \n",
      " block5_conv4 (Conv2D)       (None, 5, 5, 512)         2359808   \n",
      "                                                                 \n",
      " block5_pool (MaxPooling2D)  (None, 2, 2, 512)         0         \n",
      "                                                                 \n",
      " flatten_1 (Flatten)         (None, 2048)              0         \n",
      "                                                                 \n",
      " dense_1 (Dense)             (None, 120)               245880    \n",
      "                                                                 \n",
      "=================================================================\n",
      "Total params: 20,270,264\n",
      "Trainable params: 245,880\n",
      "Non-trainable params: 20,024,384\n",
      "_________________________________________________________________\n"
     ]
    }
   ],
   "source": [
    "# 사전 교육된 기본 모델 생성\n",
    "base_model = VGG19(\n",
    "    weights = 'imagenet',\n",
    "    # weights = None,\n",
    "    include_top=False, input_shape=(im_size, im_size, 3))\n",
    "\n",
    "# model out 정의\n",
    "x = base_model.output\n",
    "x = Flatten()(x)\n",
    "predictions = Dense(num_class, activation='softmax')(x)\n",
    "\n",
    "# 모델 정의\n",
    "model = Model(inputs=base_model.input, outputs=predictions)\n",
    "\n",
    "# 저장된 weights 로드\n",
    "# model.load_weights('weights.h5')\n",
    "\n",
    "# 교육할 계층 설정 최상위 계층만 교육 (False 가중치 고정)\n",
    "for layer in base_model.layers:\n",
    "    layer.trainable = False\n",
    "\n",
    "# 훈련할 레이어 확인\n",
    "for layer in base_model.layers:\n",
    "    print(layer, layer.trainable)\n",
    "\n",
    "# 오차역전파 정의\n",
    "model.compile(loss='categorical_crossentropy',\n",
    "              optimizer='adam',\n",
    "              metrics=['accuracy'])\n",
    "callbacks_list = [keras.callbacks.EarlyStopping(monitor='val_acc', patience=3, verbose=1)]\n",
    "model.summary()"
   ]
  },
  {
   "cell_type": "code",
   "execution_count": 6,
   "id": "2b4ada71",
   "metadata": {
    "scrolled": true,
    "tags": []
   },
   "outputs": [
    {
     "name": "stdout",
     "output_type": "stream",
     "text": [
      "Epoch 1/100\n"
     ]
    },
    {
     "name": "stderr",
     "output_type": "stream",
     "text": [
      "2022-09-17 22:55:05.322269: W tensorflow/core/platform/profile_utils/cpu_utils.cc:128] Failed to get CPU frequency: 0 Hz\n",
      "2022-09-17 22:55:05.563828: I tensorflow/core/grappler/optimizers/custom_graph_optimizer_registry.cc:114] Plugin optimizer for device_type GPU is enabled.\n"
     ]
    },
    {
     "name": "stdout",
     "output_type": "stream",
     "text": [
      "224/224 [==============================] - ETA: 0s - loss: 4.6177 - accuracy: 0.0478"
     ]
    },
    {
     "name": "stderr",
     "output_type": "stream",
     "text": [
      "2022-09-17 22:55:20.951105: I tensorflow/core/grappler/optimizers/custom_graph_optimizer_registry.cc:114] Plugin optimizer for device_type GPU is enabled.\n"
     ]
    },
    {
     "name": "stdout",
     "output_type": "stream",
     "text": [
      "224/224 [==============================] - 21s 89ms/step - loss: 4.6177 - accuracy: 0.0478 - val_loss: 4.3004 - val_accuracy: 0.0769\n",
      "Epoch 2/100\n",
      "224/224 [==============================] - 19s 86ms/step - loss: 3.6239 - accuracy: 0.1932 - val_loss: 4.1409 - val_accuracy: 0.1102\n",
      "Epoch 3/100\n",
      "224/224 [==============================] - 19s 85ms/step - loss: 3.1129 - accuracy: 0.3002 - val_loss: 4.0484 - val_accuracy: 0.1161\n",
      "Epoch 4/100\n",
      "224/224 [==============================] - 20s 88ms/step - loss: 2.7436 - accuracy: 0.3802 - val_loss: 4.0287 - val_accuracy: 0.1311\n",
      "Epoch 5/100\n",
      "224/224 [==============================] - 19s 86ms/step - loss: 2.4441 - accuracy: 0.4648 - val_loss: 4.0015 - val_accuracy: 0.1278\n",
      "Epoch 6/100\n",
      "224/224 [==============================] - 19s 86ms/step - loss: 2.1952 - accuracy: 0.5308 - val_loss: 3.9922 - val_accuracy: 0.1317\n",
      "Epoch 7/100\n",
      "224/224 [==============================] - 19s 87ms/step - loss: 1.9768 - accuracy: 0.5846 - val_loss: 3.9891 - val_accuracy: 0.1428\n",
      "Epoch 8/100\n",
      "224/224 [==============================] - 19s 85ms/step - loss: 1.8069 - accuracy: 0.6270 - val_loss: 4.0390 - val_accuracy: 0.1379\n",
      "Epoch 9/100\n",
      "224/224 [==============================] - 19s 85ms/step - loss: 1.6396 - accuracy: 0.6799 - val_loss: 4.0435 - val_accuracy: 0.1379\n",
      "Epoch 10/100\n",
      "224/224 [==============================] - 19s 85ms/step - loss: 1.5006 - accuracy: 0.7192 - val_loss: 4.1124 - val_accuracy: 0.1356\n",
      "Epoch 11/100\n",
      "224/224 [==============================] - 19s 84ms/step - loss: 1.3812 - accuracy: 0.7473 - val_loss: 4.1025 - val_accuracy: 0.1457\n",
      "Epoch 12/100\n",
      "224/224 [==============================] - 19s 84ms/step - loss: 1.2586 - accuracy: 0.7863 - val_loss: 4.1350 - val_accuracy: 0.1435\n",
      "Epoch 13/100\n",
      "224/224 [==============================] - 19s 84ms/step - loss: 1.1516 - accuracy: 0.8158 - val_loss: 4.1912 - val_accuracy: 0.1369\n",
      "Epoch 14/100\n",
      "224/224 [==============================] - 19s 85ms/step - loss: 1.0591 - accuracy: 0.8382 - val_loss: 4.2519 - val_accuracy: 0.1376\n",
      "Epoch 15/100\n",
      "224/224 [==============================] - 19s 84ms/step - loss: 0.9802 - accuracy: 0.8579 - val_loss: 4.2596 - val_accuracy: 0.1369\n",
      "Epoch 16/100\n",
      "224/224 [==============================] - 19s 87ms/step - loss: 0.8954 - accuracy: 0.8802 - val_loss: 4.2783 - val_accuracy: 0.1448\n",
      "Epoch 17/100\n",
      "224/224 [==============================] - 19s 86ms/step - loss: 0.8184 - accuracy: 0.8949 - val_loss: 4.3443 - val_accuracy: 0.1327\n",
      "Epoch 18/100\n",
      "224/224 [==============================] - 19s 87ms/step - loss: 0.7531 - accuracy: 0.9129 - val_loss: 4.3785 - val_accuracy: 0.1353\n",
      "Epoch 19/100\n",
      "224/224 [==============================] - 19s 86ms/step - loss: 0.6967 - accuracy: 0.9206 - val_loss: 4.4559 - val_accuracy: 0.1409\n",
      "Epoch 20/100\n",
      "224/224 [==============================] - 19s 86ms/step - loss: 0.6349 - accuracy: 0.9350 - val_loss: 4.4683 - val_accuracy: 0.1402\n",
      "Epoch 21/100\n",
      "224/224 [==============================] - 19s 85ms/step - loss: 0.5861 - accuracy: 0.9490 - val_loss: 4.5015 - val_accuracy: 0.1343\n",
      "Epoch 22/100\n",
      "224/224 [==============================] - 19s 86ms/step - loss: 0.5380 - accuracy: 0.9557 - val_loss: 4.5287 - val_accuracy: 0.1347\n",
      "Epoch 23/100\n",
      "224/224 [==============================] - 19s 85ms/step - loss: 0.4938 - accuracy: 0.9655 - val_loss: 4.5924 - val_accuracy: 0.1347\n",
      "Epoch 24/100\n",
      "224/224 [==============================] - 19s 84ms/step - loss: 0.4564 - accuracy: 0.9688 - val_loss: 4.6519 - val_accuracy: 0.1285\n",
      "Epoch 25/100\n",
      "224/224 [==============================] - 19s 84ms/step - loss: 0.4167 - accuracy: 0.9748 - val_loss: 4.6791 - val_accuracy: 0.1356\n",
      "Epoch 26/100\n",
      "224/224 [==============================] - 19s 84ms/step - loss: 0.3794 - accuracy: 0.9800 - val_loss: 4.7112 - val_accuracy: 0.1409\n",
      "Epoch 27/100\n",
      "224/224 [==============================] - 19s 85ms/step - loss: 0.3513 - accuracy: 0.9850 - val_loss: 4.7657 - val_accuracy: 0.1350\n",
      "Epoch 28/100\n",
      "224/224 [==============================] - 19s 85ms/step - loss: 0.3219 - accuracy: 0.9874 - val_loss: 4.7933 - val_accuracy: 0.1334\n",
      "Epoch 29/100\n",
      "224/224 [==============================] - 19s 85ms/step - loss: 0.2941 - accuracy: 0.9898 - val_loss: 4.8172 - val_accuracy: 0.1356\n",
      "Epoch 30/100\n",
      "224/224 [==============================] - 19s 86ms/step - loss: 0.2700 - accuracy: 0.9906 - val_loss: 4.9145 - val_accuracy: 0.1278\n",
      "Epoch 31/100\n",
      "224/224 [==============================] - 19s 85ms/step - loss: 0.2464 - accuracy: 0.9945 - val_loss: 4.9413 - val_accuracy: 0.1324\n",
      "Epoch 32/100\n",
      "224/224 [==============================] - 19s 85ms/step - loss: 0.2267 - accuracy: 0.9965 - val_loss: 4.9966 - val_accuracy: 0.1298\n",
      "Epoch 33/100\n",
      "224/224 [==============================] - 19s 84ms/step - loss: 0.2076 - accuracy: 0.9959 - val_loss: 5.0230 - val_accuracy: 0.1360\n",
      "Epoch 34/100\n",
      "224/224 [==============================] - 19s 85ms/step - loss: 0.1913 - accuracy: 0.9971 - val_loss: 5.0926 - val_accuracy: 0.1314\n",
      "Epoch 35/100\n",
      "224/224 [==============================] - 19s 84ms/step - loss: 0.1765 - accuracy: 0.9976 - val_loss: 5.1121 - val_accuracy: 0.1337\n",
      "Epoch 36/100\n",
      "224/224 [==============================] - 19s 85ms/step - loss: 0.1601 - accuracy: 0.9985 - val_loss: 5.1509 - val_accuracy: 0.1334\n",
      "Epoch 37/100\n",
      "224/224 [==============================] - 19s 83ms/step - loss: 0.1478 - accuracy: 0.9992 - val_loss: 5.1929 - val_accuracy: 0.1330\n",
      "Epoch 38/100\n",
      "224/224 [==============================] - 19s 85ms/step - loss: 0.1354 - accuracy: 0.9989 - val_loss: 5.2660 - val_accuracy: 0.1334\n",
      "Epoch 39/100\n",
      "224/224 [==============================] - 19s 86ms/step - loss: 0.1251 - accuracy: 0.9992 - val_loss: 5.3040 - val_accuracy: 0.1337\n",
      "Epoch 40/100\n",
      "224/224 [==============================] - 19s 84ms/step - loss: 0.1135 - accuracy: 0.9993 - val_loss: 5.3141 - val_accuracy: 0.1291\n",
      "Epoch 41/100\n",
      "224/224 [==============================] - 19s 85ms/step - loss: 0.1050 - accuracy: 0.9993 - val_loss: 5.3824 - val_accuracy: 0.1321\n",
      "Epoch 42/100\n",
      "224/224 [==============================] - 19s 85ms/step - loss: 0.0970 - accuracy: 0.9994 - val_loss: 5.4426 - val_accuracy: 0.1301\n",
      "Epoch 43/100\n",
      "224/224 [==============================] - 19s 85ms/step - loss: 0.0894 - accuracy: 0.9994 - val_loss: 5.4508 - val_accuracy: 0.1343\n",
      "Epoch 44/100\n",
      "224/224 [==============================] - 19s 86ms/step - loss: 0.0821 - accuracy: 0.9994 - val_loss: 5.5114 - val_accuracy: 0.1311\n",
      "Epoch 45/100\n",
      "224/224 [==============================] - 19s 86ms/step - loss: 0.0760 - accuracy: 0.9992 - val_loss: 5.5427 - val_accuracy: 0.1307\n",
      "Epoch 46/100\n",
      "224/224 [==============================] - 19s 86ms/step - loss: 0.0704 - accuracy: 0.9993 - val_loss: 5.5892 - val_accuracy: 0.1366\n",
      "Epoch 47/100\n",
      "224/224 [==============================] - 19s 85ms/step - loss: 0.0653 - accuracy: 0.9993 - val_loss: 5.6366 - val_accuracy: 0.1327\n"
     ]
    },
    {
     "data": {
      "text/plain": [
       "<keras.callbacks.History at 0x29149fc40>"
      ]
     },
     "execution_count": 6,
     "metadata": {},
     "output_type": "execute_result"
    }
   ],
   "source": [
    "from datetime import datetime\n",
    "from keras.callbacks import EarlyStopping\n",
    "    \n",
    "# 학습시작\n",
    "print(\"train start  : \"+datetime.now())\n",
    "early_stopping = EarlyStopping(monitor = 'accuracy', patience = 5, mode = 'auto')\n",
    "model.fit(X_train, Y_train, epochs=100, validation_data=(X_valid, Y_valid), verbose=1, callbacks = [early_stopping])\n",
    "print(\"train finish : \"+datetime.now())"
   ]
  },
  {
   "cell_type": "code",
   "execution_count": 7,
   "id": "1846ec5c",
   "metadata": {},
   "outputs": [],
   "source": [
    "# 학습된 weights 저장\n",
    "model.save('VGG19_DOG_weights.h5')"
   ]
  },
  {
   "cell_type": "markdown",
   "id": "d71320b6",
   "metadata": {
    "tags": []
   },
   "source": [
    "## Predict"
   ]
  },
  {
   "cell_type": "code",
   "execution_count": 4,
   "id": "e9dfdc09-ce02-4746-a8ed-fca4b0ffdd31",
   "metadata": {},
   "outputs": [],
   "source": [
    "# gpu를 끄고 테스트하려 했으나 m1 에서는 안되는 듯 함\n",
    "# with tf.device('/CPU:0'): 를 통해서 대체\n",
    "# import os\n",
    "# os.environ[\"CUDA_VISIBLE_DEVICES\"] = \"-1\""
   ]
  },
  {
   "cell_type": "code",
   "execution_count": null,
   "id": "6c2f665d-4392-40df-8866-69d0416730f8",
   "metadata": {},
   "outputs": [
    {
     "name": "stderr",
     "output_type": "stream",
     "text": [
      "2022-09-18 15:17:18.172997: I tensorflow/core/common_runtime/pluggable_device/pluggable_device_factory.cc:306] Could not identify NUMA node of platform GPU ID 0, defaulting to 0. Your kernel may not have been built with NUMA support.\n",
      "2022-09-18 15:17:18.173063: I tensorflow/core/common_runtime/pluggable_device/pluggable_device_factory.cc:272] Created TensorFlow device (/device:GPU:0 with 0 MB memory) -> physical PluggableDevice (device: 0, name: METAL, pci bus id: <undefined>)\n"
     ]
    },
    {
     "data": {
      "text/plain": [
       "[name: \"/device:CPU:0\"\n",
       " device_type: \"CPU\"\n",
       " memory_limit: 268435456\n",
       " locality {\n",
       " }\n",
       " incarnation: 8483204366621149018\n",
       " xla_global_id: -1,\n",
       " name: \"/device:GPU:0\"\n",
       " device_type: \"GPU\"\n",
       " locality {\n",
       "   bus_id: 1\n",
       " }\n",
       " incarnation: 10354847475270525694\n",
       " physical_device_desc: \"device: 0, name: METAL, pci bus id: <undefined>\"\n",
       " xla_global_id: -1]"
      ]
     },
     "execution_count": 5,
     "metadata": {},
     "output_type": "execute_result"
    }
   ],
   "source": [
    "from tensorflow.python.client import device_lib\n",
    "device_lib.list_local_devices()"
   ]
  },
  {
   "cell_type": "code",
   "execution_count": 1,
   "id": "89d3feaa",
   "metadata": {},
   "outputs": [],
   "source": [
    "import numpy as np\n",
    "import pandas as pd\n",
    "import cv2\n",
    "from keras.applications.vgg19 import VGG19\n",
    "from keras.models import Model\n",
    "from keras.layers import Dense, Dropout, Flatten\n",
    "from tqdm import tqdm"
   ]
  },
  {
   "cell_type": "code",
   "execution_count": 2,
   "id": "bc94fe2b",
   "metadata": {},
   "outputs": [
    {
     "name": "stderr",
     "output_type": "stream",
     "text": [
      "100%|███████████████████████████████████████████████████████████████████████| 10222/10222 [00:00<00:00, 1364593.89it/s]\n",
      "100%|███████████████████████████████████████████████████████████████████████████| 10357/10357 [00:17<00:00, 579.25it/s]\n"
     ]
    },
    {
     "name": "stdout",
     "output_type": "stream",
     "text": [
      "(10222, 120)\n",
      "(10357, 90, 90, 3)\n"
     ]
    }
   ],
   "source": [
    "DATA_DIR = \"../data/dog-breed-identification\"\n",
    "\n",
    "# csv 데이터 셋팅\n",
    "df_train = pd.read_csv(DATA_DIR+\"/labels.csv\")\n",
    "df_test = pd.read_csv(DATA_DIR+\"/predict.csv\")\n",
    "\n",
    "# breed 파싱(중첩제거?)\n",
    "targets_series = pd.Series(df_train['breed'])\n",
    "# one_hot 변환(0 0 1 0)\n",
    "one_hot = pd.get_dummies(targets_series, sparse = True)\n",
    "\n",
    "# 배열로 변환\n",
    "one_hot_labels = np.asarray(one_hot)\n",
    "\n",
    "# 이미지 사이즈 정의\n",
    "im_size = 90\n",
    "\n",
    "y_train = []\n",
    "x_test = []\n",
    "\n",
    "# 예측할 분류 셋팅\n",
    "i = 0\n",
    "for f, breed in tqdm(df_train.values):\n",
    "    label = one_hot_labels[i]\n",
    "    y_train.append(label)\n",
    "    i += 1\n",
    "\n",
    "# 예측할 데이터 셋팅\n",
    "for f in tqdm(df_test['id'].values):\n",
    "    img = cv2.imread(DATA_DIR+\"/test/{}.jpg\".format(f))\n",
    "    x_test.append(cv2.resize(img, (im_size, im_size)))\n",
    "\n",
    "y_train_raw = np.array(y_train, np.uint8)\n",
    "x_test = np.array(x_test, np.float32) / 255.\n",
    "\n",
    "\n",
    "# shape 확인\n",
    "print(y_train_raw.shape)\n",
    "print(x_test.shape)\n",
    "\n",
    "# 분류\n",
    "num_class = y_train_raw.shape[1]"
   ]
  },
  {
   "cell_type": "code",
   "execution_count": 3,
   "id": "0381937d",
   "metadata": {},
   "outputs": [
    {
     "name": "stderr",
     "output_type": "stream",
     "text": [
      "2022-09-18 15:18:04.109860: I tensorflow/core/common_runtime/pluggable_device/pluggable_device_factory.cc:306] Could not identify NUMA node of platform GPU ID 0, defaulting to 0. Your kernel may not have been built with NUMA support.\n",
      "2022-09-18 15:18:04.109962: I tensorflow/core/common_runtime/pluggable_device/pluggable_device_factory.cc:272] Created TensorFlow device (/job:localhost/replica:0/task:0/device:GPU:0 with 0 MB memory) -> physical PluggableDevice (device: 0, name: METAL, pci bus id: <undefined>)\n"
     ]
    },
    {
     "name": "stdout",
     "output_type": "stream",
     "text": [
      "Metal device set to: Apple M1 Pro\n",
      "Model: \"model\"\n",
      "_________________________________________________________________\n",
      " Layer (type)                Output Shape              Param #   \n",
      "=================================================================\n",
      " input_1 (InputLayer)        [(None, 90, 90, 3)]       0         \n",
      "                                                                 \n",
      " block1_conv1 (Conv2D)       (None, 90, 90, 64)        1792      \n",
      "                                                                 \n",
      " block1_conv2 (Conv2D)       (None, 90, 90, 64)        36928     \n",
      "                                                                 \n",
      " block1_pool (MaxPooling2D)  (None, 45, 45, 64)        0         \n",
      "                                                                 \n",
      " block2_conv1 (Conv2D)       (None, 45, 45, 128)       73856     \n",
      "                                                                 \n",
      " block2_conv2 (Conv2D)       (None, 45, 45, 128)       147584    \n",
      "                                                                 \n",
      " block2_pool (MaxPooling2D)  (None, 22, 22, 128)       0         \n",
      "                                                                 \n",
      " block3_conv1 (Conv2D)       (None, 22, 22, 256)       295168    \n",
      "                                                                 \n",
      " block3_conv2 (Conv2D)       (None, 22, 22, 256)       590080    \n",
      "                                                                 \n",
      " block3_conv3 (Conv2D)       (None, 22, 22, 256)       590080    \n",
      "                                                                 \n",
      " block3_conv4 (Conv2D)       (None, 22, 22, 256)       590080    \n",
      "                                                                 \n",
      " block3_pool (MaxPooling2D)  (None, 11, 11, 256)       0         \n",
      "                                                                 \n",
      " block4_conv1 (Conv2D)       (None, 11, 11, 512)       1180160   \n",
      "                                                                 \n",
      " block4_conv2 (Conv2D)       (None, 11, 11, 512)       2359808   \n",
      "                                                                 \n",
      " block4_conv3 (Conv2D)       (None, 11, 11, 512)       2359808   \n",
      "                                                                 \n",
      " block4_conv4 (Conv2D)       (None, 11, 11, 512)       2359808   \n",
      "                                                                 \n",
      " block4_pool (MaxPooling2D)  (None, 5, 5, 512)         0         \n",
      "                                                                 \n",
      " block5_conv1 (Conv2D)       (None, 5, 5, 512)         2359808   \n",
      "                                                                 \n",
      " block5_conv2 (Conv2D)       (None, 5, 5, 512)         2359808   \n",
      "                                                                 \n",
      " block5_conv3 (Conv2D)       (None, 5, 5, 512)         2359808   \n",
      "                                                                 \n",
      " block5_conv4 (Conv2D)       (None, 5, 5, 512)         2359808   \n",
      "                                                                 \n",
      " block5_pool (MaxPooling2D)  (None, 2, 2, 512)         0         \n",
      "                                                                 \n",
      " flatten (Flatten)           (None, 2048)              0         \n",
      "                                                                 \n",
      " dense (Dense)               (None, 120)               245880    \n",
      "                                                                 \n",
      "=================================================================\n",
      "Total params: 20,270,264\n",
      "Trainable params: 20,270,264\n",
      "Non-trainable params: 0\n",
      "_________________________________________________________________\n"
     ]
    }
   ],
   "source": [
    "# 사전 교육된 기본 모델 생성\n",
    "base_model = VGG19(\n",
    "    weights = 'imagenet',\n",
    "    # weights = None,\n",
    "    include_top=False, input_shape=(im_size, im_size, 3))\n",
    "\n",
    "# model out 정의\n",
    "x = base_model.output\n",
    "x = Flatten()(x)\n",
    "predictions = Dense(num_class, activation='softmax')(x)\n",
    "\n",
    "# 모델 정의\n",
    "model = Model(inputs=base_model.input, outputs=predictions)\n",
    "\n",
    "# 저장된 weights 로드\n",
    "model.load_weights('VGG19_DOG_weights.h5')\n",
    "model.summary()"
   ]
  },
  {
   "cell_type": "code",
   "execution_count": 4,
   "id": "86871834-372d-4534-8352-b458678be29d",
   "metadata": {},
   "outputs": [
    {
     "name": "stdout",
     "output_type": "stream",
     "text": [
      "predict start  : 2022-09-18 15:14:05.231830\n"
     ]
    },
    {
     "name": "stderr",
     "output_type": "stream",
     "text": [
      "2022-09-18 15:14:05.796922: W tensorflow/core/platform/profile_utils/cpu_utils.cc:128] Failed to get CPU frequency: 0 Hz\n",
      "2022-09-18 15:14:05.868036: I tensorflow/core/grappler/optimizers/custom_graph_optimizer_registry.cc:114] Plugin optimizer for device_type GPU is enabled.\n"
     ]
    },
    {
     "name": "stdout",
     "output_type": "stream",
     "text": [
      "324/324 [==============================] - 18s 56ms/step\n",
      "       affenpinscher  afghan_hound  african_hunting_dog      airedale  \\\n",
      "0       6.573294e-02  1.690041e-10         1.161020e-10  1.930093e-05   \n",
      "1       2.735431e-02  3.351460e-04         2.300926e-05  1.901667e-05   \n",
      "2       2.061415e-03  2.686264e-04         2.070895e-08  1.987240e-06   \n",
      "3       1.889682e-05  1.033817e-04         3.254675e-11  3.814876e-05   \n",
      "4       9.142209e-03  9.940370e-05         1.449613e-02  2.344854e-04   \n",
      "...              ...           ...                  ...           ...   \n",
      "10352   1.388291e-09  1.583850e-04         5.192119e-11  2.744825e-09   \n",
      "10353   1.480103e-02  5.595206e-07         3.628109e-09  1.120093e-02   \n",
      "10354   1.598422e-03  1.548917e-07         3.122071e-07  1.429822e-04   \n",
      "10355   6.396257e-08  1.044179e-09         1.406445e-04  1.891592e-05   \n",
      "10356   1.998745e-05  2.398158e-08         2.707106e-05  3.239789e-05   \n",
      "\n",
      "       american_staffordshire_terrier   appenzeller  australian_terrier  \\\n",
      "0                            0.313173  1.291099e-07        2.288067e-08   \n",
      "1                            0.001110  3.454725e-05        1.267618e-04   \n",
      "2                            0.000072  6.470195e-07        2.287469e-07   \n",
      "3                            0.002510  2.749345e-04        4.206212e-05   \n",
      "4                            0.000196  3.395616e-04        6.483375e-02   \n",
      "...                               ...           ...                 ...   \n",
      "10352                        0.000002  1.143300e-07        7.427276e-08   \n",
      "10353                        0.000009  1.227645e-04        5.613057e-04   \n",
      "10354                        0.000176  1.996376e-05        1.574827e-04   \n",
      "10355                        0.000268  7.124199e-04        5.975195e-07   \n",
      "10356                        0.000051  6.372728e-05        1.606862e-05   \n",
      "\n",
      "            basenji        basset        beagle  ...    toy_poodle  \\\n",
      "0      1.290669e-06  3.206618e-07  1.143090e-06  ...  1.665663e-06   \n",
      "1      8.059330e-06  9.293453e-05  8.388060e-06  ...  3.155801e-03   \n",
      "2      2.785535e-09  2.604160e-04  2.018147e-05  ...  1.930038e-03   \n",
      "3      2.110744e-05  1.372394e-04  3.846613e-03  ...  1.258948e-03   \n",
      "4      1.840648e-03  3.655701e-05  2.824465e-05  ...  4.815229e-06   \n",
      "...             ...           ...           ...  ...           ...   \n",
      "10352  5.099057e-07  2.098467e-09  5.647794e-07  ...  1.020795e-02   \n",
      "10353  1.210786e-05  4.105708e-03  9.263500e-05  ...  2.494404e-04   \n",
      "10354  1.601364e-04  3.512770e-05  9.644697e-06  ...  1.092431e-06   \n",
      "10355  2.722990e-04  5.073435e-06  6.580575e-05  ...  1.799393e-09   \n",
      "10356  1.027984e-05  6.633809e-08  3.564440e-07  ...  1.639698e-05   \n",
      "\n",
      "        toy_terrier        vizsla  walker_hound    weimaraner  \\\n",
      "0      1.935242e-08  1.195782e-01  7.619293e-05  1.168574e-06   \n",
      "1      2.786255e-06  7.748334e-03  1.853242e-05  1.136566e-03   \n",
      "2      7.634687e-06  1.934187e-04  3.308188e-07  7.973737e-05   \n",
      "3      1.449038e-03  4.319771e-05  6.399884e-05  1.261982e-03   \n",
      "4      3.308446e-04  2.081881e-07  1.369813e-03  1.636791e-04   \n",
      "...             ...           ...           ...           ...   \n",
      "10352  5.999269e-08  1.204149e-06  1.546829e-07  3.497683e-07   \n",
      "10353  1.141972e-04  1.022017e-02  4.424945e-02  8.418024e-04   \n",
      "10354  7.576219e-09  2.002130e-05  1.510057e-03  3.090893e-05   \n",
      "10355  3.423145e-06  4.396673e-07  1.950584e-07  3.329234e-08   \n",
      "10356  3.886967e-07  1.975769e-06  3.459930e-06  9.976744e-05   \n",
      "\n",
      "       welsh_springer_spaniel  west_highland_white_terrier       whippet  \\\n",
      "0                7.976035e-09                 3.804340e-10  3.058250e-06   \n",
      "1                1.498401e-05                 1.247735e-06  2.916422e-05   \n",
      "2                2.167622e-06                 5.206691e-07  7.141755e-09   \n",
      "3                2.143962e-03                 8.624284e-05  1.337751e-04   \n",
      "4                1.211781e-02                 6.346477e-06  4.267807e-06   \n",
      "...                       ...                          ...           ...   \n",
      "10352            2.238846e-05                 1.530683e-06  3.973281e-08   \n",
      "10353            1.939712e-03                 1.200304e-03  1.403249e-05   \n",
      "10354            4.362444e-04                 6.089198e-06  5.227224e-04   \n",
      "10355            1.245107e-07                 4.201439e-08  7.976853e-07   \n",
      "10356            5.175528e-09                 2.212342e-05  2.901863e-06   \n",
      "\n",
      "       wire-haired_fox_terrier  yorkshire_terrier  \n",
      "0                 3.262690e-12       1.632989e-08  \n",
      "1                 4.545835e-05       2.938240e-04  \n",
      "2                 9.912988e-08       1.434707e-05  \n",
      "3                 2.921446e-06       2.408308e-04  \n",
      "4                 2.881543e-06       9.383956e-03  \n",
      "...                        ...                ...  \n",
      "10352             1.647213e-05       2.018850e-07  \n",
      "10353             6.041668e-05       4.844608e-03  \n",
      "10354             6.697654e-09       9.921066e-03  \n",
      "10355             4.825564e-08       1.711754e-10  \n",
      "10356             2.398925e-05       1.638502e-07  \n",
      "\n",
      "[10357 rows x 120 columns]\n",
      "predict finish : 2022-09-18 15:14:24.295064\n"
     ]
    }
   ],
   "source": [
    "import datetime\n",
    "\n",
    "print(\"gpu predict start  :\", datetime.datetime.now())\n",
    "# 예측할 데이터 결과\n",
    "preds = model.predict(x_test, verbose=1)\n",
    "\n",
    "sub = pd.DataFrame(preds)\n",
    "# 열 이름을 앞서 한번의 키 인코딩으로 생성된 열 이름으로 설정\n",
    "col_names = one_hot.columns.values\n",
    "sub.columns = col_names\n",
    "\n",
    "sub.head(5)\n",
    "print(sub)\n",
    "print(\"gpu predict finish :\", datetime.datetime.now())"
   ]
  },
  {
   "cell_type": "code",
   "execution_count": 5,
   "id": "93e9ac06-d07d-4d5b-8174-130a0798d9f2",
   "metadata": {},
   "outputs": [
    {
     "name": "stdout",
     "output_type": "stream",
     "text": [
      "cpu predict start  : 2022-09-18 15:18:10.065525\n"
     ]
    },
    {
     "name": "stderr",
     "output_type": "stream",
     "text": [
      "2022-09-18 15:18:10.088288: W tensorflow/core/platform/profile_utils/cpu_utils.cc:128] Failed to get CPU frequency: 0 Hz\n",
      "2022-09-18 15:18:10.140916: I tensorflow/core/grappler/optimizers/custom_graph_optimizer_registry.cc:114] Plugin optimizer for device_type GPU is enabled.\n"
     ]
    },
    {
     "name": "stdout",
     "output_type": "stream",
     "text": [
      "159/324 [=============>................] - ETA: 1:30"
     ]
    },
    {
     "ename": "KeyboardInterrupt",
     "evalue": "",
     "output_type": "error",
     "traceback": [
      "\u001b[0;31m---------------------------------------------------------------------------\u001b[0m",
      "\u001b[0;31mKeyboardInterrupt\u001b[0m                         Traceback (most recent call last)",
      "Cell \u001b[0;32mIn [5], line 7\u001b[0m\n\u001b[1;32m      5\u001b[0m \u001b[38;5;28mprint\u001b[39m(\u001b[38;5;124m\"\u001b[39m\u001b[38;5;124mcpu predict start  :\u001b[39m\u001b[38;5;124m\"\u001b[39m, datetime\u001b[38;5;241m.\u001b[39mdatetime\u001b[38;5;241m.\u001b[39mnow())\n\u001b[1;32m      6\u001b[0m \u001b[38;5;66;03m# 예측할 데이터 결과\u001b[39;00m\n\u001b[0;32m----> 7\u001b[0m preds \u001b[38;5;241m=\u001b[39m \u001b[43mmodel\u001b[49m\u001b[38;5;241;43m.\u001b[39;49m\u001b[43mpredict\u001b[49m\u001b[43m(\u001b[49m\u001b[43mx_test\u001b[49m\u001b[43m,\u001b[49m\u001b[43m \u001b[49m\u001b[43mverbose\u001b[49m\u001b[38;5;241;43m=\u001b[39;49m\u001b[38;5;241;43m1\u001b[39;49m\u001b[43m)\u001b[49m\n\u001b[1;32m      9\u001b[0m sub \u001b[38;5;241m=\u001b[39m pd\u001b[38;5;241m.\u001b[39mDataFrame(preds)\n\u001b[1;32m     10\u001b[0m \u001b[38;5;66;03m# 열 이름을 앞서 한번의 키 인코딩으로 생성된 열 이름으로 설정\u001b[39;00m\n",
      "File \u001b[0;32m~/miniforge3/envs/tf2-py38-gpu/lib/python3.8/site-packages/keras/utils/traceback_utils.py:65\u001b[0m, in \u001b[0;36mfilter_traceback.<locals>.error_handler\u001b[0;34m(*args, **kwargs)\u001b[0m\n\u001b[1;32m     63\u001b[0m filtered_tb \u001b[38;5;241m=\u001b[39m \u001b[38;5;28;01mNone\u001b[39;00m\n\u001b[1;32m     64\u001b[0m \u001b[38;5;28;01mtry\u001b[39;00m:\n\u001b[0;32m---> 65\u001b[0m     \u001b[38;5;28;01mreturn\u001b[39;00m \u001b[43mfn\u001b[49m\u001b[43m(\u001b[49m\u001b[38;5;241;43m*\u001b[39;49m\u001b[43margs\u001b[49m\u001b[43m,\u001b[49m\u001b[43m \u001b[49m\u001b[38;5;241;43m*\u001b[39;49m\u001b[38;5;241;43m*\u001b[39;49m\u001b[43mkwargs\u001b[49m\u001b[43m)\u001b[49m\n\u001b[1;32m     66\u001b[0m \u001b[38;5;28;01mexcept\u001b[39;00m \u001b[38;5;167;01mException\u001b[39;00m \u001b[38;5;28;01mas\u001b[39;00m e:\n\u001b[1;32m     67\u001b[0m     filtered_tb \u001b[38;5;241m=\u001b[39m _process_traceback_frames(e\u001b[38;5;241m.\u001b[39m__traceback__)\n",
      "File \u001b[0;32m~/miniforge3/envs/tf2-py38-gpu/lib/python3.8/site-packages/keras/engine/training.py:2253\u001b[0m, in \u001b[0;36mModel.predict\u001b[0;34m(self, x, batch_size, verbose, steps, callbacks, max_queue_size, workers, use_multiprocessing)\u001b[0m\n\u001b[1;32m   2251\u001b[0m \u001b[38;5;28;01mfor\u001b[39;00m step \u001b[38;5;129;01min\u001b[39;00m data_handler\u001b[38;5;241m.\u001b[39msteps():\n\u001b[1;32m   2252\u001b[0m     callbacks\u001b[38;5;241m.\u001b[39mon_predict_batch_begin(step)\n\u001b[0;32m-> 2253\u001b[0m     tmp_batch_outputs \u001b[38;5;241m=\u001b[39m \u001b[38;5;28;43mself\u001b[39;49m\u001b[38;5;241;43m.\u001b[39;49m\u001b[43mpredict_function\u001b[49m\u001b[43m(\u001b[49m\u001b[43miterator\u001b[49m\u001b[43m)\u001b[49m\n\u001b[1;32m   2254\u001b[0m     \u001b[38;5;28;01mif\u001b[39;00m data_handler\u001b[38;5;241m.\u001b[39mshould_sync:\n\u001b[1;32m   2255\u001b[0m         context\u001b[38;5;241m.\u001b[39masync_wait()\n",
      "File \u001b[0;32m~/miniforge3/envs/tf2-py38-gpu/lib/python3.8/site-packages/tensorflow/python/util/traceback_utils.py:150\u001b[0m, in \u001b[0;36mfilter_traceback.<locals>.error_handler\u001b[0;34m(*args, **kwargs)\u001b[0m\n\u001b[1;32m    148\u001b[0m filtered_tb \u001b[38;5;241m=\u001b[39m \u001b[38;5;28;01mNone\u001b[39;00m\n\u001b[1;32m    149\u001b[0m \u001b[38;5;28;01mtry\u001b[39;00m:\n\u001b[0;32m--> 150\u001b[0m   \u001b[38;5;28;01mreturn\u001b[39;00m \u001b[43mfn\u001b[49m\u001b[43m(\u001b[49m\u001b[38;5;241;43m*\u001b[39;49m\u001b[43margs\u001b[49m\u001b[43m,\u001b[49m\u001b[43m \u001b[49m\u001b[38;5;241;43m*\u001b[39;49m\u001b[38;5;241;43m*\u001b[39;49m\u001b[43mkwargs\u001b[49m\u001b[43m)\u001b[49m\n\u001b[1;32m    151\u001b[0m \u001b[38;5;28;01mexcept\u001b[39;00m \u001b[38;5;167;01mException\u001b[39;00m \u001b[38;5;28;01mas\u001b[39;00m e:\n\u001b[1;32m    152\u001b[0m   filtered_tb \u001b[38;5;241m=\u001b[39m _process_traceback_frames(e\u001b[38;5;241m.\u001b[39m__traceback__)\n",
      "File \u001b[0;32m~/miniforge3/envs/tf2-py38-gpu/lib/python3.8/site-packages/tensorflow/python/eager/def_function.py:915\u001b[0m, in \u001b[0;36mFunction.__call__\u001b[0;34m(self, *args, **kwds)\u001b[0m\n\u001b[1;32m    912\u001b[0m compiler \u001b[38;5;241m=\u001b[39m \u001b[38;5;124m\"\u001b[39m\u001b[38;5;124mxla\u001b[39m\u001b[38;5;124m\"\u001b[39m \u001b[38;5;28;01mif\u001b[39;00m \u001b[38;5;28mself\u001b[39m\u001b[38;5;241m.\u001b[39m_jit_compile \u001b[38;5;28;01melse\u001b[39;00m \u001b[38;5;124m\"\u001b[39m\u001b[38;5;124mnonXla\u001b[39m\u001b[38;5;124m\"\u001b[39m\n\u001b[1;32m    914\u001b[0m \u001b[38;5;28;01mwith\u001b[39;00m OptionalXlaContext(\u001b[38;5;28mself\u001b[39m\u001b[38;5;241m.\u001b[39m_jit_compile):\n\u001b[0;32m--> 915\u001b[0m   result \u001b[38;5;241m=\u001b[39m \u001b[38;5;28;43mself\u001b[39;49m\u001b[38;5;241;43m.\u001b[39;49m\u001b[43m_call\u001b[49m\u001b[43m(\u001b[49m\u001b[38;5;241;43m*\u001b[39;49m\u001b[43margs\u001b[49m\u001b[43m,\u001b[49m\u001b[43m \u001b[49m\u001b[38;5;241;43m*\u001b[39;49m\u001b[38;5;241;43m*\u001b[39;49m\u001b[43mkwds\u001b[49m\u001b[43m)\u001b[49m\n\u001b[1;32m    917\u001b[0m new_tracing_count \u001b[38;5;241m=\u001b[39m \u001b[38;5;28mself\u001b[39m\u001b[38;5;241m.\u001b[39mexperimental_get_tracing_count()\n\u001b[1;32m    918\u001b[0m without_tracing \u001b[38;5;241m=\u001b[39m (tracing_count \u001b[38;5;241m==\u001b[39m new_tracing_count)\n",
      "File \u001b[0;32m~/miniforge3/envs/tf2-py38-gpu/lib/python3.8/site-packages/tensorflow/python/eager/def_function.py:954\u001b[0m, in \u001b[0;36mFunction._call\u001b[0;34m(self, *args, **kwds)\u001b[0m\n\u001b[1;32m    951\u001b[0m \u001b[38;5;28mself\u001b[39m\u001b[38;5;241m.\u001b[39m_lock\u001b[38;5;241m.\u001b[39mrelease()\n\u001b[1;32m    952\u001b[0m \u001b[38;5;66;03m# In this case we have not created variables on the first call. So we can\u001b[39;00m\n\u001b[1;32m    953\u001b[0m \u001b[38;5;66;03m# run the first trace but we should fail if variables are created.\u001b[39;00m\n\u001b[0;32m--> 954\u001b[0m results \u001b[38;5;241m=\u001b[39m \u001b[38;5;28;43mself\u001b[39;49m\u001b[38;5;241;43m.\u001b[39;49m\u001b[43m_stateful_fn\u001b[49m\u001b[43m(\u001b[49m\u001b[38;5;241;43m*\u001b[39;49m\u001b[43margs\u001b[49m\u001b[43m,\u001b[49m\u001b[43m \u001b[49m\u001b[38;5;241;43m*\u001b[39;49m\u001b[38;5;241;43m*\u001b[39;49m\u001b[43mkwds\u001b[49m\u001b[43m)\u001b[49m\n\u001b[1;32m    955\u001b[0m \u001b[38;5;28;01mif\u001b[39;00m \u001b[38;5;28mself\u001b[39m\u001b[38;5;241m.\u001b[39m_created_variables \u001b[38;5;129;01mand\u001b[39;00m \u001b[38;5;129;01mnot\u001b[39;00m ALLOW_DYNAMIC_VARIABLE_CREATION:\n\u001b[1;32m    956\u001b[0m   \u001b[38;5;28;01mraise\u001b[39;00m \u001b[38;5;167;01mValueError\u001b[39;00m(\u001b[38;5;124m\"\u001b[39m\u001b[38;5;124mCreating variables on a non-first call to a function\u001b[39m\u001b[38;5;124m\"\u001b[39m\n\u001b[1;32m    957\u001b[0m                    \u001b[38;5;124m\"\u001b[39m\u001b[38;5;124m decorated with tf.function.\u001b[39m\u001b[38;5;124m\"\u001b[39m)\n",
      "File \u001b[0;32m~/miniforge3/envs/tf2-py38-gpu/lib/python3.8/site-packages/tensorflow/python/eager/function.py:2496\u001b[0m, in \u001b[0;36mFunction.__call__\u001b[0;34m(self, *args, **kwargs)\u001b[0m\n\u001b[1;32m   2493\u001b[0m \u001b[38;5;28;01mwith\u001b[39;00m \u001b[38;5;28mself\u001b[39m\u001b[38;5;241m.\u001b[39m_lock:\n\u001b[1;32m   2494\u001b[0m   (graph_function,\n\u001b[1;32m   2495\u001b[0m    filtered_flat_args) \u001b[38;5;241m=\u001b[39m \u001b[38;5;28mself\u001b[39m\u001b[38;5;241m.\u001b[39m_maybe_define_function(args, kwargs)\n\u001b[0;32m-> 2496\u001b[0m \u001b[38;5;28;01mreturn\u001b[39;00m \u001b[43mgraph_function\u001b[49m\u001b[38;5;241;43m.\u001b[39;49m\u001b[43m_call_flat\u001b[49m\u001b[43m(\u001b[49m\n\u001b[1;32m   2497\u001b[0m \u001b[43m    \u001b[49m\u001b[43mfiltered_flat_args\u001b[49m\u001b[43m,\u001b[49m\u001b[43m \u001b[49m\u001b[43mcaptured_inputs\u001b[49m\u001b[38;5;241;43m=\u001b[39;49m\u001b[43mgraph_function\u001b[49m\u001b[38;5;241;43m.\u001b[39;49m\u001b[43mcaptured_inputs\u001b[49m\u001b[43m)\u001b[49m\n",
      "File \u001b[0;32m~/miniforge3/envs/tf2-py38-gpu/lib/python3.8/site-packages/tensorflow/python/eager/function.py:1862\u001b[0m, in \u001b[0;36mConcreteFunction._call_flat\u001b[0;34m(self, args, captured_inputs, cancellation_manager)\u001b[0m\n\u001b[1;32m   1858\u001b[0m possible_gradient_type \u001b[38;5;241m=\u001b[39m gradients_util\u001b[38;5;241m.\u001b[39mPossibleTapeGradientTypes(args)\n\u001b[1;32m   1859\u001b[0m \u001b[38;5;28;01mif\u001b[39;00m (possible_gradient_type \u001b[38;5;241m==\u001b[39m gradients_util\u001b[38;5;241m.\u001b[39mPOSSIBLE_GRADIENT_TYPES_NONE\n\u001b[1;32m   1860\u001b[0m     \u001b[38;5;129;01mand\u001b[39;00m executing_eagerly):\n\u001b[1;32m   1861\u001b[0m   \u001b[38;5;66;03m# No tape is watching; skip to running the function.\u001b[39;00m\n\u001b[0;32m-> 1862\u001b[0m   \u001b[38;5;28;01mreturn\u001b[39;00m \u001b[38;5;28mself\u001b[39m\u001b[38;5;241m.\u001b[39m_build_call_outputs(\u001b[38;5;28;43mself\u001b[39;49m\u001b[38;5;241;43m.\u001b[39;49m\u001b[43m_inference_function\u001b[49m\u001b[38;5;241;43m.\u001b[39;49m\u001b[43mcall\u001b[49m\u001b[43m(\u001b[49m\n\u001b[1;32m   1863\u001b[0m \u001b[43m      \u001b[49m\u001b[43mctx\u001b[49m\u001b[43m,\u001b[49m\u001b[43m \u001b[49m\u001b[43margs\u001b[49m\u001b[43m,\u001b[49m\u001b[43m \u001b[49m\u001b[43mcancellation_manager\u001b[49m\u001b[38;5;241;43m=\u001b[39;49m\u001b[43mcancellation_manager\u001b[49m\u001b[43m)\u001b[49m)\n\u001b[1;32m   1864\u001b[0m forward_backward \u001b[38;5;241m=\u001b[39m \u001b[38;5;28mself\u001b[39m\u001b[38;5;241m.\u001b[39m_select_forward_and_backward_functions(\n\u001b[1;32m   1865\u001b[0m     args,\n\u001b[1;32m   1866\u001b[0m     possible_gradient_type,\n\u001b[1;32m   1867\u001b[0m     executing_eagerly)\n\u001b[1;32m   1868\u001b[0m forward_function, args_with_tangents \u001b[38;5;241m=\u001b[39m forward_backward\u001b[38;5;241m.\u001b[39mforward()\n",
      "File \u001b[0;32m~/miniforge3/envs/tf2-py38-gpu/lib/python3.8/site-packages/tensorflow/python/eager/function.py:499\u001b[0m, in \u001b[0;36m_EagerDefinedFunction.call\u001b[0;34m(self, ctx, args, cancellation_manager)\u001b[0m\n\u001b[1;32m    497\u001b[0m \u001b[38;5;28;01mwith\u001b[39;00m _InterpolateFunctionError(\u001b[38;5;28mself\u001b[39m):\n\u001b[1;32m    498\u001b[0m   \u001b[38;5;28;01mif\u001b[39;00m cancellation_manager \u001b[38;5;129;01mis\u001b[39;00m \u001b[38;5;28;01mNone\u001b[39;00m:\n\u001b[0;32m--> 499\u001b[0m     outputs \u001b[38;5;241m=\u001b[39m \u001b[43mexecute\u001b[49m\u001b[38;5;241;43m.\u001b[39;49m\u001b[43mexecute\u001b[49m\u001b[43m(\u001b[49m\n\u001b[1;32m    500\u001b[0m \u001b[43m        \u001b[49m\u001b[38;5;28;43mstr\u001b[39;49m\u001b[43m(\u001b[49m\u001b[38;5;28;43mself\u001b[39;49m\u001b[38;5;241;43m.\u001b[39;49m\u001b[43msignature\u001b[49m\u001b[38;5;241;43m.\u001b[39;49m\u001b[43mname\u001b[49m\u001b[43m)\u001b[49m\u001b[43m,\u001b[49m\n\u001b[1;32m    501\u001b[0m \u001b[43m        \u001b[49m\u001b[43mnum_outputs\u001b[49m\u001b[38;5;241;43m=\u001b[39;49m\u001b[38;5;28;43mself\u001b[39;49m\u001b[38;5;241;43m.\u001b[39;49m\u001b[43m_num_outputs\u001b[49m\u001b[43m,\u001b[49m\n\u001b[1;32m    502\u001b[0m \u001b[43m        \u001b[49m\u001b[43minputs\u001b[49m\u001b[38;5;241;43m=\u001b[39;49m\u001b[43margs\u001b[49m\u001b[43m,\u001b[49m\n\u001b[1;32m    503\u001b[0m \u001b[43m        \u001b[49m\u001b[43mattrs\u001b[49m\u001b[38;5;241;43m=\u001b[39;49m\u001b[43mattrs\u001b[49m\u001b[43m,\u001b[49m\n\u001b[1;32m    504\u001b[0m \u001b[43m        \u001b[49m\u001b[43mctx\u001b[49m\u001b[38;5;241;43m=\u001b[39;49m\u001b[43mctx\u001b[49m\u001b[43m)\u001b[49m\n\u001b[1;32m    505\u001b[0m   \u001b[38;5;28;01melse\u001b[39;00m:\n\u001b[1;32m    506\u001b[0m     outputs \u001b[38;5;241m=\u001b[39m execute\u001b[38;5;241m.\u001b[39mexecute_with_cancellation(\n\u001b[1;32m    507\u001b[0m         \u001b[38;5;28mstr\u001b[39m(\u001b[38;5;28mself\u001b[39m\u001b[38;5;241m.\u001b[39msignature\u001b[38;5;241m.\u001b[39mname),\n\u001b[1;32m    508\u001b[0m         num_outputs\u001b[38;5;241m=\u001b[39m\u001b[38;5;28mself\u001b[39m\u001b[38;5;241m.\u001b[39m_num_outputs,\n\u001b[0;32m   (...)\u001b[0m\n\u001b[1;32m    511\u001b[0m         ctx\u001b[38;5;241m=\u001b[39mctx,\n\u001b[1;32m    512\u001b[0m         cancellation_manager\u001b[38;5;241m=\u001b[39mcancellation_manager)\n",
      "File \u001b[0;32m~/miniforge3/envs/tf2-py38-gpu/lib/python3.8/site-packages/tensorflow/python/eager/execute.py:54\u001b[0m, in \u001b[0;36mquick_execute\u001b[0;34m(op_name, num_outputs, inputs, attrs, ctx, name)\u001b[0m\n\u001b[1;32m     52\u001b[0m \u001b[38;5;28;01mtry\u001b[39;00m:\n\u001b[1;32m     53\u001b[0m   ctx\u001b[38;5;241m.\u001b[39mensure_initialized()\n\u001b[0;32m---> 54\u001b[0m   tensors \u001b[38;5;241m=\u001b[39m \u001b[43mpywrap_tfe\u001b[49m\u001b[38;5;241;43m.\u001b[39;49m\u001b[43mTFE_Py_Execute\u001b[49m\u001b[43m(\u001b[49m\u001b[43mctx\u001b[49m\u001b[38;5;241;43m.\u001b[39;49m\u001b[43m_handle\u001b[49m\u001b[43m,\u001b[49m\u001b[43m \u001b[49m\u001b[43mdevice_name\u001b[49m\u001b[43m,\u001b[49m\u001b[43m \u001b[49m\u001b[43mop_name\u001b[49m\u001b[43m,\u001b[49m\n\u001b[1;32m     55\u001b[0m \u001b[43m                                      \u001b[49m\u001b[43minputs\u001b[49m\u001b[43m,\u001b[49m\u001b[43m \u001b[49m\u001b[43mattrs\u001b[49m\u001b[43m,\u001b[49m\u001b[43m \u001b[49m\u001b[43mnum_outputs\u001b[49m\u001b[43m)\u001b[49m\n\u001b[1;32m     56\u001b[0m \u001b[38;5;28;01mexcept\u001b[39;00m core\u001b[38;5;241m.\u001b[39m_NotOkStatusException \u001b[38;5;28;01mas\u001b[39;00m e:\n\u001b[1;32m     57\u001b[0m   \u001b[38;5;28;01mif\u001b[39;00m name \u001b[38;5;129;01mis\u001b[39;00m \u001b[38;5;129;01mnot\u001b[39;00m \u001b[38;5;28;01mNone\u001b[39;00m:\n",
      "\u001b[0;31mKeyboardInterrupt\u001b[0m: "
     ]
    }
   ],
   "source": [
    "import datetime\n",
    "import tensorflow as tf\n",
    "\n",
    "with tf.device('/CPU:0'):\n",
    "    print(\"cpu predict start  :\", datetime.datetime.now())\n",
    "    # 예측할 데이터 결과\n",
    "    preds = model.predict(x_test, verbose=1)\n",
    "\n",
    "    sub = pd.DataFrame(preds)\n",
    "    # 열 이름을 앞서 한번의 키 인코딩으로 생성된 열 이름으로 설정\n",
    "    col_names = one_hot.columns.values\n",
    "    sub.columns = col_names\n",
    "\n",
    "    sub.head(5)\n",
    "    print(sub)\n",
    "    print(\"cpu predict finish :\", datetime.datetime.now())"
   ]
  },
  {
   "cell_type": "code",
   "execution_count": 14,
   "id": "d71c4bd8",
   "metadata": {},
   "outputs": [],
   "source": [
    "# 데이터 프레임 시작 부분의 predict에서 열 ID삽입\n",
    "sub.insert(0, 'id', df_test['id'])\n",
    "\n",
    "# 테스트 이미지 예측값 저장\n",
    "sub.to_csv(\"predict.csv\", mode='w')"
   ]
  },
  {
   "cell_type": "code",
   "execution_count": null,
   "id": "32cb256c",
   "metadata": {},
   "outputs": [],
   "source": []
  }
 ],
 "metadata": {
  "kernelspec": {
   "display_name": "Python 3 (ipykernel)",
   "language": "python",
   "name": "python3"
  },
  "language_info": {
   "codemirror_mode": {
    "name": "ipython",
    "version": 3
   },
   "file_extension": ".py",
   "mimetype": "text/x-python",
   "name": "python",
   "nbconvert_exporter": "python",
   "pygments_lexer": "ipython3",
   "version": "3.8.13"
  }
 },
 "nbformat": 4,
 "nbformat_minor": 5
}
